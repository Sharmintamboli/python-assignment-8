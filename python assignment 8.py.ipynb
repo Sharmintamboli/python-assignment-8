{
 "cells": [
  {
   "cell_type": "code",
   "execution_count": 1,
   "id": "d0da9b97",
   "metadata": {},
   "outputs": [
    {
     "data": {
      "text/plain": [
       "'it is not the part of the library ust install it '"
      ]
     },
     "execution_count": 1,
     "metadata": {},
     "output_type": "execute_result"
    }
   ],
   "source": [
    "#question 1\n",
    "#Is the Python Standard Library included with PyInputPlus?\n",
    "\"\"\"it is not the part of the library ust install it \"\"\""
   ]
  },
  {
   "cell_type": "code",
   "execution_count": 2,
   "id": "0ec95805",
   "metadata": {},
   "outputs": [
    {
     "data": {
      "text/plain": [
       "'pypi is alias of PyInputPlus. The as pyip code in the import statement saves us from\\ntyping pyinputplus each time we want to call a PyInputPlus function. \\nInstead we can use the shorter pyip name'"
      ]
     },
     "execution_count": 2,
     "metadata": {},
     "output_type": "execute_result"
    }
   ],
   "source": [
    "#question 2\n",
    "#Why is PyInputPlus commonly imported with import pyinputplus as pypi?\n",
    "\"\"\"pypi is alias of PyInputPlus. The as pyip code in the import statement saves us from\n",
    "typing pyinputplus each time we want to call a PyInputPlus function. \n",
    "Instead we can use the shorter pyip name\"\"\""
   ]
  },
  {
   "cell_type": "code",
   "execution_count": 3,
   "id": "f5aba956",
   "metadata": {},
   "outputs": [
    {
     "data": {
      "text/plain": [
       "'inputInt() : Accepts an integer value, and returns int value\\ninputFloat() : Accepts integer/floating point value and returns float value'"
      ]
     },
     "execution_count": 3,
     "metadata": {},
     "output_type": "execute_result"
    }
   ],
   "source": [
    "#question 3\n",
    "#How do you distinguish between inputInt() and inputFloat()?\n",
    "\"\"\"inputInt() : Accepts an integer value, and returns int value\n",
    "inputFloat() : Accepts integer/floating point value and returns float value\"\"\""
   ]
  },
  {
   "cell_type": "code",
   "execution_count": 4,
   "id": "96007bd3",
   "metadata": {},
   "outputs": [
    {
     "data": {
      "text/plain": [
       "'Ans. In the inputint function we can set the min = 0 and max =99 to ensure user enters number between 0 and 99'"
      ]
     },
     "execution_count": 4,
     "metadata": {},
     "output_type": "execute_result"
    }
   ],
   "source": [
    "#question4\n",
    "#Using PyInputPlus, how do you ensure that the user enters a whole number between 0 and 99?\n",
    "\"\"\"Ans. In the inputint function we can set the min = 0 and max =99 to ensure user enters number between 0 and 99\"\"\""
   ]
  },
  {
   "cell_type": "code",
   "execution_count": 7,
   "id": "6fe10967",
   "metadata": {},
   "outputs": [
    {
     "data": {
      "text/plain": [
       "'Ans. We can also use regular expressions to specify whether an input is allowed or not. \\nThe allowRegexes and blockRegexes keyword arguments take a list of regular expression strings to determine \\nwhat the PyInputPlus function will accept or reject as valid input.'"
      ]
     },
     "execution_count": 7,
     "metadata": {},
     "output_type": "execute_result"
    }
   ],
   "source": [
    "#question 5\n",
    "#hat is transferred to the keyword arguments allowRegexes and blockRegexes?\n",
    "\"\"\"Ans. We can also use regular expressions to specify whether an input is allowed or not. \n",
    "The allowRegexes and blockRegexes keyword arguments take a list of regular expression strings to determine \n",
    "what the PyInputPlus function will accept or reject as valid input.\"\"\""
   ]
  },
  {
   "cell_type": "code",
   "execution_count": 8,
   "id": "1444ef1f",
   "metadata": {},
   "outputs": [
    {
     "data": {
      "text/plain": [
       "'Ans. It will throw RetryLimitException exception.'"
      ]
     },
     "execution_count": 8,
     "metadata": {},
     "output_type": "execute_result"
    }
   ],
   "source": [
    "#question 6\n",
    "#If a blank input is entered three times, what does inputStr(limit=3) do?\n",
    "\"\"\"Ans. It will throw RetryLimitException exception.\"\"\""
   ]
  },
  {
   "cell_type": "code",
   "execution_count": 9,
   "id": "e8fafc37",
   "metadata": {},
   "outputs": [
    {
     "data": {
      "text/plain": [
       "'When you use limit keyword arguments and also pass a default keyword argument, \\nthe function returns the default value instead of raising an exception'"
      ]
     },
     "execution_count": 9,
     "metadata": {},
     "output_type": "execute_result"
    }
   ],
   "source": [
    "#question 7\n",
    "#if blank input is entered three times, what does inputStr(limit=3, default='hello') do?\n",
    "\"\"\"When you use limit keyword arguments and also pass a default keyword argument, \n",
    "the function returns the default value instead of raising an exception\"\"\""
   ]
  },
  {
   "cell_type": "code",
   "execution_count": null,
   "id": "6be8396a",
   "metadata": {},
   "outputs": [],
   "source": []
  }
 ],
 "metadata": {
  "kernelspec": {
   "display_name": "Python 3 (ipykernel)",
   "language": "python",
   "name": "python3"
  },
  "language_info": {
   "codemirror_mode": {
    "name": "ipython",
    "version": 3
   },
   "file_extension": ".py",
   "mimetype": "text/x-python",
   "name": "python",
   "nbconvert_exporter": "python",
   "pygments_lexer": "ipython3",
   "version": "3.9.7"
  }
 },
 "nbformat": 4,
 "nbformat_minor": 5
}
